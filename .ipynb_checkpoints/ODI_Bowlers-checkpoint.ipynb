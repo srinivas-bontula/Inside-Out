{
 "cells": [
  {
   "cell_type": "code",
   "execution_count": 1,
   "metadata": {},
   "outputs": [],
   "source": [
    "import pandas as pd\n",
    "import numpy as np\n",
    "import math\n",
    "import matplotlib.pyplot as plt\n",
    "%matplotlib inline"
   ]
  },
  {
   "cell_type": "code",
   "execution_count": 34,
   "metadata": {},
   "outputs": [],
   "source": [
    "df1 = pd.read_csv(\"records_final_series_ODI_bowlers_v1.csv\")"
   ]
  },
  {
   "cell_type": "code",
   "execution_count": 35,
   "metadata": {},
   "outputs": [
    {
     "data": {
      "text/html": [
       "<div>\n",
       "<style>\n",
       "    .dataframe thead tr:only-child th {\n",
       "        text-align: right;\n",
       "    }\n",
       "\n",
       "    .dataframe thead th {\n",
       "        text-align: left;\n",
       "    }\n",
       "\n",
       "    .dataframe tbody tr th {\n",
       "        vertical-align: top;\n",
       "    }\n",
       "</style>\n",
       "<table border=\"1\" class=\"dataframe\">\n",
       "  <thead>\n",
       "    <tr style=\"text-align: right;\">\n",
       "      <th></th>\n",
       "      <th>Player</th>\n",
       "      <th>Country</th>\n",
       "      <th>Mat</th>\n",
       "      <th>Overs</th>\n",
       "      <th>Maidens</th>\n",
       "      <th>Runs</th>\n",
       "      <th>Wickets</th>\n",
       "      <th>4w</th>\n",
       "      <th>Best</th>\n",
       "      <th>Avg</th>\n",
       "      <th>S/R</th>\n",
       "      <th>E/R</th>\n",
       "      <th>Series_Code</th>\n",
       "      <th>H/A</th>\n",
       "      <th>Decade_Index</th>\n",
       "      <th>Matches</th>\n",
       "    </tr>\n",
       "  </thead>\n",
       "  <tbody>\n",
       "    <tr>\n",
       "      <th>0</th>\n",
       "      <td>McKenzie G D</td>\n",
       "      <td>Australia</td>\n",
       "      <td>1</td>\n",
       "      <td>7.4</td>\n",
       "      <td>0</td>\n",
       "      <td>22</td>\n",
       "      <td>2</td>\n",
       "      <td>0</td>\n",
       "      <td>22-Feb</td>\n",
       "      <td>11.00</td>\n",
       "      <td>30.00</td>\n",
       "      <td>2.20</td>\n",
       "      <td>193</td>\n",
       "      <td>Home</td>\n",
       "      <td>0</td>\n",
       "      <td>1</td>\n",
       "    </tr>\n",
       "    <tr>\n",
       "      <th>1</th>\n",
       "      <td>Mallett A A</td>\n",
       "      <td>Australia</td>\n",
       "      <td>1</td>\n",
       "      <td>8.0</td>\n",
       "      <td>1</td>\n",
       "      <td>34</td>\n",
       "      <td>3</td>\n",
       "      <td>0</td>\n",
       "      <td>Mar-34</td>\n",
       "      <td>11.33</td>\n",
       "      <td>21.33</td>\n",
       "      <td>3.19</td>\n",
       "      <td>193</td>\n",
       "      <td>Home</td>\n",
       "      <td>0</td>\n",
       "      <td>1</td>\n",
       "    </tr>\n",
       "    <tr>\n",
       "      <th>2</th>\n",
       "      <td>Stackpole K R</td>\n",
       "      <td>Australia</td>\n",
       "      <td>1</td>\n",
       "      <td>8.0</td>\n",
       "      <td>0</td>\n",
       "      <td>40</td>\n",
       "      <td>3</td>\n",
       "      <td>0</td>\n",
       "      <td>Mar-40</td>\n",
       "      <td>13.33</td>\n",
       "      <td>21.33</td>\n",
       "      <td>3.75</td>\n",
       "      <td>193</td>\n",
       "      <td>Home</td>\n",
       "      <td>0</td>\n",
       "      <td>1</td>\n",
       "    </tr>\n",
       "    <tr>\n",
       "      <th>3</th>\n",
       "      <td>Illingworth R</td>\n",
       "      <td>England</td>\n",
       "      <td>1</td>\n",
       "      <td>8.0</td>\n",
       "      <td>1</td>\n",
       "      <td>50</td>\n",
       "      <td>3</td>\n",
       "      <td>0</td>\n",
       "      <td>Mar-50</td>\n",
       "      <td>16.67</td>\n",
       "      <td>21.33</td>\n",
       "      <td>4.69</td>\n",
       "      <td>193</td>\n",
       "      <td>Away</td>\n",
       "      <td>0</td>\n",
       "      <td>1</td>\n",
       "    </tr>\n",
       "    <tr>\n",
       "      <th>4</th>\n",
       "      <td>Thomson A L</td>\n",
       "      <td>Australia</td>\n",
       "      <td>1</td>\n",
       "      <td>8.0</td>\n",
       "      <td>2</td>\n",
       "      <td>22</td>\n",
       "      <td>1</td>\n",
       "      <td>0</td>\n",
       "      <td>22-Jan</td>\n",
       "      <td>22.00</td>\n",
       "      <td>64.00</td>\n",
       "      <td>2.06</td>\n",
       "      <td>193</td>\n",
       "      <td>Home</td>\n",
       "      <td>0</td>\n",
       "      <td>1</td>\n",
       "    </tr>\n",
       "  </tbody>\n",
       "</table>\n",
       "</div>"
      ],
      "text/plain": [
       "          Player    Country  Mat  Overs  Maidens  Runs  Wickets  4w    Best  \\\n",
       "0   McKenzie G D  Australia    1    7.4        0    22        2   0  22-Feb   \n",
       "1    Mallett A A  Australia    1    8.0        1    34        3   0  Mar-34   \n",
       "2  Stackpole K R  Australia    1    8.0        0    40        3   0  Mar-40   \n",
       "3  Illingworth R    England    1    8.0        1    50        3   0  Mar-50   \n",
       "4    Thomson A L  Australia    1    8.0        2    22        1   0  22-Jan   \n",
       "\n",
       "     Avg    S/R   E/R  Series_Code   H/A  Decade_Index  Matches  \n",
       "0  11.00  30.00  2.20          193  Home             0        1  \n",
       "1  11.33  21.33  3.19          193  Home             0        1  \n",
       "2  13.33  21.33  3.75          193  Home             0        1  \n",
       "3  16.67  21.33  4.69          193  Away             0        1  \n",
       "4  22.00  64.00  2.06          193  Home             0        1  "
      ]
     },
     "execution_count": 35,
     "metadata": {},
     "output_type": "execute_result"
    }
   ],
   "source": [
    "df1.head()"
   ]
  },
  {
   "cell_type": "code",
   "execution_count": 4,
   "metadata": {},
   "outputs": [],
   "source": [
    "#df1.sort_values(['Series_Code', 'Mat'], ascending=[True, False], inplace=True)"
   ]
  },
  {
   "cell_type": "code",
   "execution_count": 5,
   "metadata": {},
   "outputs": [],
   "source": [
    "#df1"
   ]
  },
  {
   "cell_type": "code",
   "execution_count": 36,
   "metadata": {},
   "outputs": [],
   "source": [
    "series = df1['Decade_Index'].values\n",
    "number, series_unique = np.unique(series, return_inverse = True)"
   ]
  },
  {
   "cell_type": "code",
   "execution_count": 41,
   "metadata": {},
   "outputs": [],
   "source": [
    "players = df1['Player'].values\n",
    "player_names, player_indices = np.unique(players, return_index = True)\n",
    "player_dict_temp_3 = {}\n",
    "for i in df1.index:\n",
    "    if df1[\"Player\"][i] in player_dict_temp_3.keys():\n",
    "        player_dict_temp_3[df1[\"Player\"][i]] = player_dict_temp_3[df1[\"Player\"][i]] + [i]\n",
    "    else:\n",
    "        player_dict_temp_3[df1[\"Player\"][i]] = [i]"
   ]
  },
  {
   "cell_type": "code",
   "execution_count": 8,
   "metadata": {},
   "outputs": [
    {
     "data": {
      "text/plain": [
       "array([  277,  3170,  1953, ...,  7363, 10371,  8658], dtype=int64)"
      ]
     },
     "execution_count": 8,
     "metadata": {},
     "output_type": "execute_result"
    }
   ],
   "source": [
    "player_indices"
   ]
  },
  {
   "cell_type": "code",
   "execution_count": 42,
   "metadata": {},
   "outputs": [],
   "source": [
    "series_codes = df1['Series_Code'].values\n",
    "series_list, series_occurances, series_code = np.unique(series_codes, return_index=True, return_inverse = True)\n",
    "#series_list"
   ]
  },
  {
   "cell_type": "code",
   "execution_count": 43,
   "metadata": {},
   "outputs": [],
   "source": [
    "series_to_number = {'Australia':0, 'Pakistan':1, 'New Zealand':2, 'West Indies':3, 'England':4, 'India' :5, 'Sri Lanka':6, 'Bangladesh':7, 'Zimbabwe':8, 'South Africa':9, 'Other':10} \n",
    "#opposition_country =[]\n",
    "series_country = []\n",
    "j = 0\n",
    "for i in series_occurances:\n",
    "    home = 0\n",
    "    away = 0\n",
    "    j = i\n",
    "    s_code = df1['Series_Code'][i]\n",
    "    while 1 != 0:\n",
    "        #print(j)\n",
    "        if df1['H/A'][j] == 'Home' and home == 0:\n",
    "            #print(df['Country'][j])\n",
    "            country = df1['Country'][j]\n",
    "            home = home + 1\n",
    "        if df1['Series_Code'][j]!=s_code or home ==1:\n",
    "            break    \n",
    "        j = j + 1 \n",
    "    if country in series_to_number.keys():\n",
    "        series_country.append(series_to_number[country])\n",
    "    else:\n",
    "        series_country.append(10)"
   ]
  },
  {
   "cell_type": "code",
   "execution_count": 11,
   "metadata": {},
   "outputs": [],
   "source": [
    "#series_country"
   ]
  },
  {
   "cell_type": "code",
   "execution_count": 12,
   "metadata": {},
   "outputs": [],
   "source": [
    "#len(series_country)"
   ]
  },
  {
   "cell_type": "code",
   "execution_count": 44,
   "metadata": {},
   "outputs": [],
   "source": [
    "series_list = list(series_list)"
   ]
  },
  {
   "cell_type": "code",
   "execution_count": 45,
   "metadata": {},
   "outputs": [],
   "source": [
    "trps = np.zeros(656)\n",
    "\n",
    "for i in df1.index:\n",
    "    avg = df1[\"Avg\"][i]\n",
    "    if not np.isnan(avg):\n",
    "        s = df1[\"Series_Code\"][i]\n",
    "        index = np.where(series_list == s)[0]\n",
    "        #print(index)\n",
    "        trps[index] += df1[\"Runs\"][i]"
   ]
  },
  {
   "cell_type": "code",
   "execution_count": 15,
   "metadata": {},
   "outputs": [
    {
     "data": {
      "text/plain": [
       "array([  1687.,   1136.,   1090.,    235.,   1089.,    216.,    462.,\n",
       "          642.,    763.,    832.,    470.,    246.,    302.,   5106.,\n",
       "          303.,    595.,    988.,    350.,    246.,    942.,    812.,\n",
       "          577.,    546.,    614.,    682.,    781.,   4144.,    253.,\n",
       "         4780.,    743.,    637.,    689.,   6353.,    433.,    648.,\n",
       "         1008.,   6293.,    871.,    818.,    604.,    904.,    526.,\n",
       "          836.,   1300.,    599.,   1336.,   6087.,   1077.,    212.,\n",
       "          967.,   1155.,    900.,  10677.,    532.,   1570.,    711.,\n",
       "         6206.,   1227.,    884.,    453.,    727.,   1103.,   1273.,\n",
       "          479.,    440.,   1259.,   1933.,   1429.,   7325.,   3864.,\n",
       "         1521.,    982.,   1342.,    968.,   1368.,    734.,   1688.,\n",
       "         5976.,   1246.,    580.,   1510.,    673.,    833.,   1306.,\n",
       "          680.,    793.,   2365.,   1544.,   1835.,   1691.,   2680.,\n",
       "         5133.,   2234.,   1060.,   2094.,    986.,  11543.,    989.,\n",
       "         2601.,   5037.,    315.,   1319.,   1843.,   1805.,    314.,\n",
       "          202.,    901.,   1848.,   1862.,   1416.,    330.,   5456.,\n",
       "          172.,   1565.,   1729.,    825.,   1301.,   2363.,   7049.,\n",
       "          414.,   1322.,   5518.,   2411.,   3026.,    745.,    978.,\n",
       "          695.,    996.,   5309.,   1001.,    488.,   1310.,   1126.,\n",
       "         1154.,   2030.,   1239.,   2740.,   1145.,    872.,   4584.,\n",
       "         1527.,    991.,  14201.,    903.,   2235.,   1063.,    371.,\n",
       "          715.,   4649.,    669.,   2418.,    738.,   1246.,   2295.,\n",
       "         3061.,    208.,    643.,   1967.,   1037.,   1999.,   1336.,\n",
       "         1133.,    820.,   3019.,   4192.,    621.,   4840.,    871.,\n",
       "          921.,   1439.,   2058.,   3152.,   1445.,   3013.,    242.,\n",
       "         1643.,    576.,   1598.,   3585.,   2128.,   1024.,   2592.,\n",
       "         5483.,   2032.,    866.,   2492.,   1113.,   2189.,   1131.,\n",
       "         2161.,   1131.,    932.,   3077.,    646.,   1922.,   1684.,\n",
       "         5271.,   2621.,    959.,  13592.,   1966.,   1692.,   2868.,\n",
       "          409.,    932.,   2560.,   1258.,   1819.,   2646.,   3795.,\n",
       "          898.,   2361.,   1299.,    324.,    998.,   5253.,   4564.,\n",
       "          153.,   1907.,    566.,   3210.,   2381.,   1185.,   3529.,\n",
       "         1080.,    330.,   2260.,   1872.,   1802.,    933.,   1248.,\n",
       "         3093.,   2894.,   2144.,   2824.,    614.,   1074.,   6002.,\n",
       "         1909.,   1724.,    698.,   2236.,   3036.,   3712.,   2967.,\n",
       "         1219.,   2434.,   2385.,   1680.,   2182.,   1083.,   2960.,\n",
       "         1376.,   2589.,   1249.,   1940.,   7264.,   2710.,   2247.,\n",
       "          260.,   2761.,   2760.,   2280.,   2948.,  15534.,   2843.,\n",
       "         1675.,    915.,   1067.,   2250.,    792.,   2207.,    920.,\n",
       "         2391.,   1535.,   1966.,   5637.,   1228.,   3176.,    974.,\n",
       "         2077.,   2542.,   2326.,   3127.,    967.,   2591.,   2585.,\n",
       "         3434.,   1218.,   1253.,   1090.,   3422.,   2631.,   2289.,\n",
       "         1252.,   2239.,   2505.,   1222.,   5612.,   1936.,   1911.,\n",
       "          914.,   2338.,    984.,   2941.,   2605.,   3263.,   2584.,\n",
       "         3864.,   1288.,   2001.,   3674.,   2747.,    970.,   2221.,\n",
       "         5406.,   2759.,   1874.,   2411.,   3356.,   2878.,   1256.,\n",
       "         1010.,   1945.,   1038.,   4410.,    851.,   2767.,    724.,\n",
       "         3396.,   2080.,   1765.,   1207.,   2078.,   6107.,   1978.,\n",
       "        19168.,   2547.,   2061.,   3136.,   1183.,   1182.,   3234.,\n",
       "          701.,   2263.,   1775.,   4069.,    733.,     85.,   1707.,\n",
       "         2227.,   2205.,   6218.,   1835.,   2634.,   1995.,   1171.,\n",
       "         2761.,   1826.,   1371.,    569.,    978.,   2668.,   4972.,\n",
       "         2232.,    714.,   1024.,    373.,   4378.,   2418.,    854.,\n",
       "          355.,   1433.,    936.,   1283.,    157.,   4881.,   2032.,\n",
       "         2856.,   2296.,   1182.,   3027.,   1782.,   1319.,   1103.,\n",
       "         2906.,   3086.,   1136.,   1749.,   3191.,   1496.,   1378.,\n",
       "         2347.,   7193.,   2352.,   2291.,   1098.,   2386.,    894.,\n",
       "         2279.,    803.,    835.,   2068.,   2174.,   1419.,   2530.,\n",
       "         1926.,   1701.,   2508.,   1070.,   1776.,   5429.,   1524.,\n",
       "         1682.,   1292.,   1424.,   6217.,   1896.,   1609.,   1806.,\n",
       "         1435.,   1199.,   1175.,  19675.,    900.,   1069.,   1129.,\n",
       "         1084.,   1158.,    928.,   3408.,   1368.,   2874.,   1825.,\n",
       "         2188.,   2533.,   1267.,   1669.,    820.,    830.,   2116.,\n",
       "         1988.,   5225.,   1921.,    811.,   2155.,    819.,   1692.,\n",
       "         1963.,   5891.,   2234.,    768.,   1652.,   1429.,   1228.,\n",
       "          727.,   1125.,   1016.,   1367.,   2196.,   1187.,   1401.,\n",
       "         1105.,   2361.,    695.,   1198.,   2460.,   2099.,   1794.,\n",
       "         1723.,   2257.,   1743.,    695.,   1184.,   1319.,   2153.,\n",
       "         2357.,   3213.,   1621.,   5996.,   3040.,   1680.,   1317.,\n",
       "          682.,   1007.,   2151.,   3099.,   2160.,   1241.,   1961.,\n",
       "         1560.,   1163.,   2251.,   1680.,   2294.,   2754.,   2856.,\n",
       "         2312.,   1278.,   2230.,   2314.,   1431.,   1237.,    190.,\n",
       "         2235.,   1035.,   1982.,   1325.,   2059.,   3406.,   2262.,\n",
       "          702.,  19692.,   1410.,   1736.,   2068.,   2148.,    740.,\n",
       "         1600.,   1882.,   2057.,   1293.,    871.,   2238.,   1159.,\n",
       "         1233.,   1917.,   2522.,    834.,   2091.,   1528.,   7107.,\n",
       "         1366.,   1105.,   3138.,   2105.,   1575.,    813.,   1387.,\n",
       "         2199.,   2264.,   1607.,   1026.,   1007.,   1820.,   1099.,\n",
       "         1505.,   2162.,   1149.,   2045.,   1219.,   1135.,   2012.,\n",
       "          914.,   1316.,   1372.,   5425.,   2645.,   1968.,   1959.,\n",
       "         1773.,   1103.,   1563.,   3236.,   1337.,   1950.,    770.,\n",
       "         1414.,   1218.,   1023.,   2227.,   1418.,   2471.,   2747.,\n",
       "         1171.,   4878.,   1225.,   1698.,    605.,   1424.,   1051.,\n",
       "         1220.,   1034.,   3126.,   1667.,   1267.,   1431.,    934.,\n",
       "         2579.,   2472.,   1816.,   3337.,   2514.,   2979.,   2615.,\n",
       "         2216.,    948.,  22057.,   1193.,   1123.,   3045.,   1406.,\n",
       "         1214.,    886.,   2410.,   1124.,   1331.,   2289.,   1169.,\n",
       "         2667.,   1010.,   1259.,   1865.,   1553.,   2755.,    930.,\n",
       "         1233.,   2674.,   3911.,    554.,   2320.,   2018.,   2375.,\n",
       "         1482.,   2690.,   1387.,   2169.,   2135.,   1585.,   1340.,\n",
       "         2467.,   1750.,   2385.,    965.,   2154.,   1143.,   1112.,\n",
       "         1429.,   2356.,   1333.,   6256.,   1743.,   2208.,   2153.,\n",
       "         2380.,   2097.,   1674.,   1272.,   1519.,   1232.,    882.,\n",
       "         2157.,   2398.,   2434.,   2478.,   2541.])"
      ]
     },
     "execution_count": 15,
     "metadata": {},
     "output_type": "execute_result"
    }
   ],
   "source": [
    "trps\n"
   ]
  },
  {
   "cell_type": "code",
   "execution_count": 46,
   "metadata": {},
   "outputs": [],
   "source": [
    "arpspc = np.zeros(11)\n",
    "tmpc = np.zeros(11)\n",
    "for i in range(len(trps)):\n",
    "    tmpc[series_country[i]] += df1['Matches'][series_occurances[i]]\n",
    "    arpspc[series_country[i]] += trps[i]"
   ]
  },
  {
   "cell_type": "code",
   "execution_count": 47,
   "metadata": {},
   "outputs": [],
   "source": [
    "arpc=arpspc/tmpc"
   ]
  },
  {
   "cell_type": "code",
   "execution_count": 48,
   "metadata": {},
   "outputs": [],
   "source": [
    "avr_average = np.average(arpc)"
   ]
  },
  {
   "cell_type": "code",
   "execution_count": 49,
   "metadata": {},
   "outputs": [],
   "source": [
    "weights_arpc = np.average(arpc)/arpc"
   ]
  },
  {
   "cell_type": "code",
   "execution_count": 50,
   "metadata": {},
   "outputs": [
    {
     "data": {
      "text/plain": [
       "array([ 0.94370681,  0.98110777,  1.00771905,  0.99912575,  0.99241729,\n",
       "        0.93649992,  1.05536995,  1.0256387 ,  1.02115162,  0.96084184,\n",
       "        1.09907793])"
      ]
     },
     "execution_count": 50,
     "metadata": {},
     "output_type": "execute_result"
    }
   ],
   "source": [
    "weights_arpc"
   ]
  },
  {
   "cell_type": "code",
   "execution_count": 51,
   "metadata": {},
   "outputs": [],
   "source": [
    "weighted_runs_arr = []\n",
    "for i in df1.index:\n",
    "    #print(series_code[i])\n",
    "    w = weights_arpc[series_country[series_code[i]]]\n",
    "    weighted_runs_arr.append(df1['Runs'][i]*w)\n",
    "#weighted_runs_arr"
   ]
  },
  {
   "cell_type": "code",
   "execution_count": 52,
   "metadata": {},
   "outputs": [],
   "source": [
    "wtrps = np.zeros(656)\n",
    "twps = np.zeros(656)\n",
    "tops = np.zeros(656)\n",
    "tbps = np.zeros(656)\n",
    "balls = np.zeros(len(df1.index))\n",
    "for i in df1.index:\n",
    "    avg = df1[\"Avg\"][i]\n",
    "    if not np.isnan(avg):\n",
    "        wtrps[series_code[i]] += weighted_runs_arr[i]\n",
    "        twps[series_code[i]] += df1[\"Wickets\"][i]\n",
    "        balls[i] = math.floor(df1[\"Overs\"][i])*6 + (df1[\"Overs\"][i]- math.floor(df1[\"Overs\"][i]))*10\n",
    "        tbps[series_code[i]] += balls[i]\n",
    "        \n",
    "    tops[series_code[i]] += df1[\"Overs\"][i]"
   ]
  },
  {
   "cell_type": "raw",
   "metadata": {},
   "source": [
    "bowl=np.zeros(len(df1.index))\n",
    "for i in df1.index:\n",
    "    bowl[i] = (wtrps[series_code[i]] - weighted_runs_arr[i])/(twps[series_code[i]]-df1[\"Wickets\"][i])\n",
    "    avg = df1[\"Avg\"][i]\n",
    "    bowl[i] = bowl[i]/avg\n",
    "    if np.isnan(avg) or avg == 0:\n",
    "        bowl[i] = 0"
   ]
  },
  {
   "cell_type": "raw",
   "metadata": {},
   "source": [
    "args=np.argsort(bowl)[-15:]\n",
    "args"
   ]
  },
  {
   "cell_type": "raw",
   "metadata": {
    "scrolled": true
   },
   "source": [
    "runs_metric_20 = []\n",
    "player_dict_temp_20 = {}\n",
    "\n",
    "\n",
    "for i in player_names:\n",
    "    no_of_wickets=0\n",
    "    no_balls = 0\n",
    "    spf_sum = 0\n",
    "    no_series = 0\n",
    "    for j in player_dict_temp_3[i]:\n",
    "        spf_sum += bowl[j]\n",
    "        no_series += 1\n",
    "        no_of_wickets += df1[\"Wickets\"][j]\n",
    "        #no_balls += balls[j]\n",
    "    #if(no_balls > 4000):    \n",
    "    if(no_of_wickets > 100): \n",
    "        #runs_metric_20.append(runs/no_of_matches)\n",
    "        player_dict_temp_20[i] = spf_sum/no_series\n",
    "    \n",
    "s_20 = [(k,player_dict_temp_20[k]) for k in sorted(player_dict_temp_20, key=player_dict_temp_20.get, reverse = True)]\n",
    "s =0\n",
    "for k,v in s_20:\n",
    "    s += v\n",
    "    print(k,\":\",v)\n",
    "a_2 = s/len(s_20)  "
   ]
  },
  {
   "cell_type": "raw",
   "metadata": {},
   "source": [
    "bowl1=np.zeros(len(df1.index))\n",
    "for i in df1.index:\n",
    "    bowl1[i] = (wtrps[series_code[i]] - weighted_runs_arr[i])/(tops[series_code[i]]-df1[\"Overs\"][i])\n",
    "    e_r = df1[\"E/R\"][i]\n",
    "    bowl1[i] = bowl1[i]/e_r\n",
    "    if e_r == 0:\n",
    "        bowl1[i] = 0\n",
    "bowl1[:14]"
   ]
  },
  {
   "cell_type": "raw",
   "metadata": {
    "scrolled": true
   },
   "source": [
    "runs_metric_30 = []\n",
    "player_dict_temp_30 = {}\n",
    "\n",
    "\n",
    "for i in player_names:\n",
    "    no_of_wickets1=0\n",
    "    spf_sum1 = 0\n",
    "    no_series1 = 0\n",
    "    no_balls = 0\n",
    "    for j in player_dict_temp_3[i]:\n",
    "        spf_sum1 += bowl1[j]\n",
    "        no_series1 += 1\n",
    "        no_of_wickets1 += df1[\"Wickets\"][j]\n",
    "        #no_balls += balls[j]\n",
    "    #if(no_balls > 4000):  \n",
    "    if(no_of_wickets1 > 100): \n",
    "        #runs_metric_20.append(runs/no_of_matches)\n",
    "        player_dict_temp_30[i] = spf_sum1/no_series1\n",
    "    \n",
    "s_30 = [(k,player_dict_temp_30[k]) for k in sorted(player_dict_temp_30, key=player_dict_temp_30.get, reverse = True)]\n",
    "\n",
    "s =0\n",
    "for k,v in s_30:\n",
    "    s += v\n",
    "    print(k,\":\",v)\n",
    "a_3 = s/len(s_30)"
   ]
  },
  {
   "cell_type": "raw",
   "metadata": {},
   "source": [
    "bowl2=np.zeros(len(df1.index))\n",
    "for i in df1.index:\n",
    "    bowl2[i] = (tbps[series_code[i]] - balls[i])/(twps[series_code[i]]-df1[\"Wickets\"][i])\n",
    "    s_r = df1[\"S/R\"][i]\n",
    "    bowl2[i] = bowl2[i]/s_r\n",
    "    if np.isnan(s_r) or s_r == 0:\n",
    "        bowl2[i] = 0"
   ]
  },
  {
   "cell_type": "raw",
   "metadata": {},
   "source": [
    "runs_metric_40 = []\n",
    "player_dict_temp_40 = {}\n",
    "\n",
    "\n",
    "for i in player_names:\n",
    "    no_of_wickets2=0\n",
    "    spf_sum2 = 0\n",
    "    no_series2 = 0\n",
    "    no_balls = 0\n",
    "    for j in player_dict_temp_3[i]:\n",
    "        spf_sum2 += bowl2[j]\n",
    "        no_series2 += 1\n",
    "        no_of_wickets2 += df1[\"Wickets\"][j]\n",
    "        #no_balls += balls[j]\n",
    "    #if(no_balls > 4000):\n",
    "    if(no_of_wickets2 > 100):    \n",
    "        #runs_metric_20.append(runs/no_of_matches)\n",
    "        player_dict_temp_40[i] = spf_sum2/no_series2\n",
    "    \n",
    "s_40 = [(k,player_dict_temp_40[k]) for k in sorted(player_dict_temp_40, key=player_dict_temp_40.get, reverse = True)]\n",
    "\n",
    "s_1 =0\n",
    "for k,v in s_40:\n",
    "    s_1 += v\n",
    "    print(k,\":\",v)\n",
    "a_4 = s_1/len(s_40) "
   ]
  },
  {
   "cell_type": "raw",
   "metadata": {},
   "source": [
    "avg = [a_2, a_3, a_4]\n",
    "w = np.average(avg)/avg"
   ]
  },
  {
   "cell_type": "raw",
   "metadata": {},
   "source": [
    "player_dict_temp_50 = {}\n",
    "\n",
    "for i in player_dict_temp_40.keys():\n",
    "    player_dict_temp_50[i] = (w[0]*player_dict_temp_20[i]+w[1]*player_dict_temp_30[i]+w[2]*player_dict_temp_40[i])/np.sum(w)\n",
    "    \n",
    "s_50 = [(k,player_dict_temp_50[k]) for k in sorted(player_dict_temp_50, key=player_dict_temp_50.get, reverse = True)]\n",
    "\n",
    "for k,v in s_50:\n",
    "    print(k,\":\",v)"
   ]
  },
  {
   "cell_type": "raw",
   "metadata": {},
   "source": [
    "for k,v in s_50:\n",
    "    first = player_indices[np.where(player_names == k)[0][0]]\n",
    "    #print(first,\"->\",df[' Decade_Index '][first])\n",
    "    if df1['Decade_Index'][first] >= 4:\n",
    "        print(k,\":\",v)"
   ]
  },
  {
   "cell_type": "code",
   "execution_count": 53,
   "metadata": {},
   "outputs": [],
   "source": [
    "def bowl_calc(param):\n",
    "    bowl1=np.zeros(len(df1.index))\n",
    "    for i in df1.index:\n",
    "        bowl1[i] = (wtrps[series_code[i]] - weighted_runs_arr[i])/(tops[series_code[i]]-df1[\"Overs\"][i])\n",
    "        e_r = df1[param][i]\n",
    "        bowl1[i] = bowl1[i]/e_r\n",
    "        if np.isnan(e_r) or  e_r == 0:\n",
    "            bowl1[i] = 0\n",
    "    return bowl1"
   ]
  },
  {
   "cell_type": "code",
   "execution_count": 54,
   "metadata": {},
   "outputs": [],
   "source": [
    "def name(bowl, x):\n",
    "    runs_metric = []\n",
    "    player_dict_temp = {}\n",
    "\n",
    "\n",
    "    for i in player_names:\n",
    "        no_of_wickets=0\n",
    "        spf_sum = 0\n",
    "        no_series = 0\n",
    "        no_balls = 0\n",
    "        for j in player_dict_temp_3[i]:\n",
    "            spf_sum += bowl[j]\n",
    "            no_series += 1\n",
    "            no_of_wickets += df1[\"Wickets\"][j]\n",
    "            #no_balls += balls[j]\n",
    "        #if(no_balls > 4000):\n",
    "        if(no_of_wickets > x):    \n",
    "            #runs_metric_20.append(runs/no_of_matches)\n",
    "            player_dict_temp[i] = spf_sum/no_series\n",
    "\n",
    "    sum_values =sum(player_dict_temp.values())\n",
    "    '''for k,v in s:\n",
    "        sum_values += v\n",
    "        #print(k,\":\",v)'''\n",
    "    a = sum_values/len(player_dict_temp) \n",
    "    return player_dict_temp, a"
   ]
  },
  {
   "cell_type": "code",
   "execution_count": 55,
   "metadata": {},
   "outputs": [],
   "source": [
    "def final_players(x):\n",
    "    bowl = bowl_calc(\"Avg\")\n",
    "    bowl1 = bowl_calc(\"E/R\")\n",
    "    bowl2 = bowl_calc(\"S/R\")\n",
    "    player_dict_temp_25, a_25 = name(bowl, x)\n",
    "    player_dict_temp_35, a_35 = name(bowl1, x)\n",
    "    player_dict_temp_45, a_45 = name(bowl2, x)\n",
    "    avg_temp = [a_25, a_35, a_45]\n",
    "    w_temp = np.average(avg_temp)/avg_temp\n",
    "\n",
    "    player_dict_temp_55 = {}\n",
    "\n",
    "    for i in player_dict_temp_45.keys():\n",
    "        player_dict_temp_55[i] = (w_temp[0]*player_dict_temp_25[i]+w_temp[1]*player_dict_temp_35[i]+w_temp[2]*player_dict_temp_45[i])/np.sum(w)\n",
    "\n",
    "    s_55 = [(k,player_dict_temp_55[k]) for k in sorted(player_dict_temp_55, key=player_dict_temp_55.get, reverse = True)]\n",
    "    return s_55"
   ]
  },
  {
   "cell_type": "raw",
   "metadata": {},
   "source": [
    "s_55 = final_players(50)\n",
    "s_51 = final_players(150)\n",
    "players_list = {}\n",
    "for country in series_to_number.keys():\n",
    "    #print(country)\n",
    "    count=0\n",
    "    players_list[country] = list()\n",
    "    for k,v in s_51:\n",
    "        first = player_indices[np.where(player_names == k)[0][0]]\n",
    "        #print(first)\n",
    "        #print(first,\"->\",df[' Decade_Index '][first])\n",
    "        if df1['Country'][first] == country:\n",
    "            player = str(k)+':'+str(v)\n",
    "            players_list[country] = players_list[country]+[player]\n",
    "            count += 1\n",
    "        if count == 5:\n",
    "            break\n",
    "    if count < 5:\n",
    "        players_list[country] = list()\n",
    "        count = 0\n",
    "        for k,v in s_55:\n",
    "            first = player_indices[np.where(player_names == k)[0][0]]\n",
    "        #print(first)\n",
    "        #print(first,\"->\",df[' Decade_Index '][first])\n",
    "            if df1['Country'][first] == country:\n",
    "                player = str(k)+':'+str(v)\n",
    "                players_list[country] = players_list[country]+[player]\n",
    "                count += 1\n",
    "            if count == 5:\n",
    "                break\n",
    "for k in players_list.keys():\n",
    "    if k == \"Other\":\n",
    "        break\n",
    "    print(k)\n",
    "    for i in players_list[k]:\n",
    "        print(i)\n",
    "    print(\"\\n\")   "
   ]
  },
  {
   "cell_type": "raw",
   "metadata": {},
   "source": [
    "players_list = {}\n",
    "for country in series_to_number.keys():\n",
    "    #print(country)\n",
    "    count=0\n",
    "    players_list[country] = list()\n",
    "    for k,v in s_51:\n",
    "        first = player_indices[np.where(player_names == k)[0][0]]\n",
    "        #print(first)\n",
    "        #print(first,\"->\",df[' Decade_Index '][first])\n",
    "        if df1['Country'][first] == country and df1['Decade_Index'][first] >= 4:\n",
    "            player = str(k)+':'+str(v)\n",
    "            players_list[country] = players_list[country]+[player]\n",
    "            count += 1\n",
    "        if count == 5:\n",
    "            break\n",
    "    if count < 5:\n",
    "        players_list[country] = list()\n",
    "        count = 0\n",
    "        for k,v in s_55:\n",
    "            first = player_indices[np.where(player_names == k)[0][0]]\n",
    "        #print(first)\n",
    "        #print(first,\"->\",df[' Decade_Index '][first])\n",
    "            if df1['Country'][first] == country and df1['Decade_Index'][first] >= 4:\n",
    "                player = str(k)+':'+str(v)\n",
    "                players_list[country] = players_list[country]+[player]\n",
    "                count += 1\n",
    "            if count == 5:\n",
    "                break\n",
    "for k in players_list.keys():\n",
    "    if k == \"Other\":\n",
    "        break\n",
    "    print(k)\n",
    "    for i in players_list[k]:\n",
    "        print(i)\n",
    "    print(\"\\n\")"
   ]
  },
  {
   "cell_type": "code",
   "execution_count": 64,
   "metadata": {},
   "outputs": [
    {
     "name": "stderr",
     "output_type": "stream",
     "text": [
      "C:\\Users\\Vasthav\\Anaconda3\\lib\\site-packages\\ipykernel_launcher.py:6: RuntimeWarning: divide by zero encountered in double_scalars\n",
      "  \n"
     ]
    }
   ],
   "source": [
    "s_55 = final_players(100)\n",
    "s_51 = final_players(150)"
   ]
  },
  {
   "cell_type": "code",
   "execution_count": 60,
   "metadata": {},
   "outputs": [],
   "source": [
    "def print_country_lists(start_decade):\n",
    "    players_list = {}\n",
    "    for country in series_to_number.keys():\n",
    "        #print(country)\n",
    "        count=0\n",
    "        players_list[country] = list()\n",
    "        for k,v in s_51:\n",
    "            first = player_indices[np.where(player_names == k)[0][0]]\n",
    "            #print(first)\n",
    "            #print(first,\"->\",df[' Decade_Index '][first])\n",
    "            if df1['Country'][first] == country and df1['Decade_Index'][first] >= start_decade:\n",
    "                player = str(k)+':'+str(v)\n",
    "                players_list[country] = players_list[country]+[player]\n",
    "                count += 1\n",
    "            if count == 5:\n",
    "                break\n",
    "        if count < 5:\n",
    "            players_list[country] = list()\n",
    "            count = 0\n",
    "            for k,v in s_55:\n",
    "                first = player_indices[np.where(player_names == k)[0][0]]\n",
    "            #print(first)\n",
    "            #print(first,\"->\",df[' Decade_Index '][first])\n",
    "                if df1['Country'][first] == country and df1['Decade_Index'][first] >= start_decade:\n",
    "                    player = str(k)+':'+str(v)\n",
    "                    players_list[country] = players_list[country]+[player]\n",
    "                    count += 1\n",
    "                if count == 5:\n",
    "                    break\n",
    "    for k in players_list.keys():\n",
    "        if k == \"Other\":\n",
    "            break\n",
    "        print(k)\n",
    "        for i in players_list[k]:\n",
    "            print(i)\n",
    "        print(\"\\n\")"
   ]
  },
  {
   "cell_type": "code",
   "execution_count": 65,
   "metadata": {},
   "outputs": [
    {
     "name": "stdout",
     "output_type": "stream",
     "text": [
      "Australia\n",
      "Lee B:1.39567776084\n",
      "Bracken N W:1.3943429768\n",
      "Johnson M G:1.39345807498\n",
      "McGrath G D:1.34819692188\n",
      "Warne S K:1.22843300315\n",
      "\n",
      "\n",
      "Pakistan\n",
      "Saeed Ajmal:1.47200431749\n",
      "Saqlain Mushtaq:1.41674006589\n",
      "Shoaib Akhtar:1.37717129689\n",
      "Wasim Akram:1.31616270624\n",
      "Waqar Younis:1.27403399955\n",
      "\n",
      "\n",
      "New Zealand\n",
      "Mills K D:1.36620614875\n",
      "Oram J D P:1.28802200975\n",
      "Hadlee R J:1.2167754024\n",
      "Vettori D L:1.21237228603\n",
      "Southee T G:1.15268230866\n",
      "\n",
      "\n",
      "West Indies\n",
      "Bravo D J J:1.21907374245\n",
      "Ambrose C E L:1.20781279906\n",
      "Walsh C A:1.11229345387\n",
      "Marshall M D:1.10790845007\n",
      "Gayle C H:1.04706788743\n",
      "\n",
      "\n",
      "England\n",
      "Woakes C R:1.36985986431\n",
      "Flintoff A:1.30887307703\n",
      "Anderson J M:1.25479899445\n",
      "Broad S C J:1.24745507953\n",
      "Swann G P:1.18807327484\n",
      "\n",
      "\n",
      "India\n",
      "Agarkar A B:1.272857429\n",
      "Khan Z:1.22962794818\n",
      "Nehra A:1.22121056597\n",
      "Pathan I K:1.2146043943\n",
      "Srinath J:1.15795055399\n",
      "\n",
      "\n",
      "Sri Lanka\n",
      "Muralitharan M:1.37420827111\n",
      "Malinga S L:1.32403276647\n",
      "Vaas W P U J C:1.26224207098\n",
      "Fernando C R D:1.21136304128\n",
      "Kulasekara K M D N:1.17111852773\n",
      "\n",
      "\n",
      "Bangladesh\n",
      "Shakib Al Hasan:1.25390489313\n",
      "Rubel Hossain:1.11799844027\n",
      "Abdur Razzak:1.1179104226\n",
      "Mashrafe Mortaza:1.10919810767\n",
      "\n",
      "\n",
      "Zimbabwe\n",
      "Streak H H:1.14320999269\n",
      "Flower G W:0.859125186084\n",
      "Utseya P:0.828970246852\n",
      "\n",
      "\n",
      "South Africa\n",
      "Steyn D W:1.47501857608\n",
      "Pollock S M:1.39468415936\n",
      "Donald A A:1.36346036561\n",
      "Morkel M:1.36028607999\n",
      "Ntini M:1.33473941682\n",
      "\n",
      "\n"
     ]
    }
   ],
   "source": [
    "print_country_lists(0)"
   ]
  },
  {
   "cell_type": "code",
   "execution_count": 66,
   "metadata": {},
   "outputs": [
    {
     "name": "stdout",
     "output_type": "stream",
     "text": [
      "Australia\n",
      "Starc M A:1.6546702884\n",
      "Lee B:1.40393533624\n",
      "Bracken N W:1.40224934334\n",
      "Johnson M G:1.40162214358\n",
      "Gillespie J N:1.34275148348\n",
      "\n",
      "\n",
      "Pakistan\n",
      "Saeed Ajmal:1.47200431749\n",
      "Shoaib Akhtar:1.37717129689\n",
      "Umar Gul:1.17384685451\n",
      "Abdul Razzaq:1.1474689234\n",
      "Shahid Afridi:1.14022873564\n",
      "\n",
      "\n",
      "New Zealand\n",
      "Bond S E:1.75352878608\n",
      "Boult T A:1.64495912777\n",
      "Mills K D:1.3739561772\n",
      "Oram J D P:1.29467184997\n",
      "Vettori D L:1.21831200092\n",
      "\n",
      "\n",
      "West Indies\n",
      "Rampaul R:1.30795609247\n",
      "Taylor J E:1.30554856573\n",
      "Bravo D J J:1.22600587475\n",
      "Dillon M V:1.20748836545\n",
      "Gayle C H:1.05229152994\n",
      "\n",
      "\n",
      "England\n",
      "Woakes C R:1.36985986431\n",
      "Flintoff A:1.30887307703\n",
      "Anderson J M:1.25479899445\n",
      "Broad S C J:1.24745507953\n",
      "Swann G P:1.18807327484\n",
      "\n",
      "\n",
      "India\n",
      "Agarkar A B:1.272857429\n",
      "Khan Z:1.22962794818\n",
      "Nehra A:1.22121056597\n",
      "Pathan I K:1.2146043943\n",
      "Harbhajan Singh:1.14214196286\n",
      "\n",
      "\n",
      "Sri Lanka\n",
      "Mendis B A W:1.45768656503\n",
      "Malinga S L:1.33165341048\n",
      "Maharoof M F:1.30735526318\n",
      "Perera N L T C:1.23331376976\n",
      "Fernando C R D:1.21817865289\n",
      "\n",
      "\n",
      "Bangladesh\n",
      "Shakib Al Hasan:1.25390489313\n",
      "Rubel Hossain:1.11799844027\n",
      "Abdur Razzak:1.1179104226\n",
      "Mashrafe Mortaza:1.10919810767\n",
      "\n",
      "\n",
      "Zimbabwe\n",
      "Utseya P:0.828970246852\n",
      "\n",
      "\n",
      "South Africa\n",
      "Steyn D W:1.47501857608\n",
      "Pollock S M:1.39468415936\n",
      "Morkel M:1.36028607999\n",
      "Ntini M:1.33473941682\n",
      "Kallis J H:1.13876854461\n",
      "\n",
      "\n"
     ]
    }
   ],
   "source": [
    "print_country_lists(4)"
   ]
  },
  {
   "cell_type": "code",
   "execution_count": 30,
   "metadata": {},
   "outputs": [],
   "source": [
    "def print_alltime_lists(start_decade):    \n",
    "    for k,v in s_51:\n",
    "        first = player_indices[np.where(player_names == k)[0][0]]\n",
    "        #print(first,\"->\",df[' Decade_Index '][first])\n",
    "        if df1['Decade_Index'][first] >= start_decade:\n",
    "            print(k,\":\",v)"
   ]
  },
  {
   "cell_type": "code",
   "execution_count": 31,
   "metadata": {},
   "outputs": [
    {
     "name": "stdout",
     "output_type": "stream",
     "text": [
      "Saeed Ajmal : 1.56555567072\n",
      "Saqlain Mushtaq : 1.48027320646\n",
      "Steyn D W : 1.46584414927\n",
      "Muralitharan M : 1.43963372213\n",
      "Shoaib Akhtar : 1.42746592014\n",
      "Mills K D : 1.38839334196\n",
      "Pollock S M : 1.38282339692\n",
      "Johnson M G : 1.38154680778\n",
      "Bracken N W : 1.379429098\n",
      "Wasim Akram : 1.36757716973\n",
      "Malinga S L : 1.3649946273\n",
      "Morkel M : 1.36225568094\n",
      "Lee B : 1.35637754791\n",
      "McGrath G D : 1.33762956785\n",
      "Shakib Al Hasan : 1.3366217603\n",
      "Ntini M : 1.3324375263\n",
      "Waqar Younis : 1.32093644443\n",
      "Vaas W P U J C : 1.32004188192\n",
      "Donald A A : 1.3182139948\n",
      "Oram J D P : 1.30327639814\n",
      "Flintoff A : 1.27992147623\n",
      "Fernando C R D : 1.27846187066\n",
      "Agarkar A B : 1.27000445285\n",
      "Imran Khan : 1.25721470635\n",
      "Bravo D J J : 1.25212112335\n",
      "Umar Gul : 1.2497451079\n",
      "Pathan I K : 1.24970691972\n",
      "Nehra A : 1.24624985691\n",
      "Kulasekara K M D N : 1.24336246477\n",
      "Khan Z : 1.23795878777\n",
      "Ambrose C E L : 1.23595038545\n",
      "Vettori D L : 1.22508040043\n",
      "McDermott C J : 1.21734780058\n",
      "Warne S K : 1.21696331267\n",
      "Streak H H : 1.20968259114\n",
      "Anderson J M : 1.20353086662\n",
      "Abdul Razzaq : 1.20148406768\n",
      "Abdur Razzak : 1.19867892328\n",
      "Hadlee R J : 1.19865849965\n",
      "Shahid Afridi : 1.19609676329\n",
      "Broad S C J : 1.1947096927\n",
      "Mashrafe Mortaza : 1.18866246127\n",
      "Srinath J : 1.15706415592\n",
      "Harbhajan Singh : 1.15031948429\n",
      "Southee T G : 1.14293858988\n",
      "Walsh C A : 1.13722133235\n",
      "Gough D : 1.13658984562\n",
      "Kallis J H : 1.13086465355\n",
      "Kapil Dev : 1.12687842878\n",
      "Jadeja R A : 1.12173321653\n",
      "Marshall M D : 1.12036222235\n",
      "Aaqib Javed : 1.10351158158\n",
      "Kumble A : 1.09995538679\n",
      "Gayle C H : 1.0861712979\n",
      "Prabhakar M M : 1.08615465071\n",
      "Klusener L : 1.07152567011\n",
      "Prasad B K V : 1.06545416768\n",
      "Chandana U D U : 1.06069144095\n",
      "Cairns C L : 1.04853661613\n",
      "Mushtaq Ahmed : 1.0444621138\n",
      "Jayasuriya S T : 1.02886401474\n",
      "Hooper C L : 1.00785187339\n",
      "Harris C Z : 0.980065239537\n",
      "Waugh S R : 0.918016053992\n"
     ]
    }
   ],
   "source": [
    "print_alltime_lists(0)"
   ]
  },
  {
   "cell_type": "code",
   "execution_count": 32,
   "metadata": {},
   "outputs": [
    {
     "name": "stdout",
     "output_type": "stream",
     "text": [
      "Saeed Ajmal : 1.56555567072\n",
      "Steyn D W : 1.46584414927\n",
      "Shoaib Akhtar : 1.42746592014\n",
      "Mills K D : 1.38839334196\n",
      "Pollock S M : 1.38282339692\n",
      "Johnson M G : 1.38154680778\n",
      "Bracken N W : 1.379429098\n",
      "Malinga S L : 1.3649946273\n",
      "Morkel M : 1.36225568094\n",
      "Lee B : 1.35637754791\n",
      "Shakib Al Hasan : 1.3366217603\n",
      "Ntini M : 1.3324375263\n",
      "Oram J D P : 1.30327639814\n",
      "Flintoff A : 1.27992147623\n",
      "Fernando C R D : 1.27846187066\n",
      "Agarkar A B : 1.27000445285\n",
      "Bravo D J J : 1.25212112335\n",
      "Umar Gul : 1.2497451079\n",
      "Pathan I K : 1.24970691972\n",
      "Nehra A : 1.24624985691\n",
      "Kulasekara K M D N : 1.24336246477\n",
      "Khan Z : 1.23795878777\n",
      "Vettori D L : 1.22508040043\n",
      "Anderson J M : 1.20353086662\n",
      "Abdul Razzaq : 1.20148406768\n",
      "Abdur Razzak : 1.19867892328\n",
      "Shahid Afridi : 1.19609676329\n",
      "Broad S C J : 1.1947096927\n",
      "Mashrafe Mortaza : 1.18866246127\n",
      "Harbhajan Singh : 1.15031948429\n",
      "Southee T G : 1.14293858988\n",
      "Kallis J H : 1.13086465355\n",
      "Jadeja R A : 1.12173321653\n",
      "Gayle C H : 1.0861712979\n",
      "Klusener L : 1.07152567011\n"
     ]
    }
   ],
   "source": [
    "print_alltime_lists(4)"
   ]
  },
  {
   "cell_type": "code",
   "execution_count": 33,
   "metadata": {},
   "outputs": [
    {
     "data": {
      "text/plain": [
       "[<matplotlib.lines.Line2D at 0x27206d9e160>]"
      ]
     },
     "execution_count": 33,
     "metadata": {},
     "output_type": "execute_result"
    },
    {
     "data": {
      "image/png": "[encoded data removed]",
      "text/plain": [
       "<matplotlib.figure.Figure at 0x27206bb0c50>"
      ]
     },
     "metadata": {},
     "output_type": "display_data"
    }
   ],
   "source": []
  },
  {
   "cell_type": "code",
   "execution_count": null,
   "metadata": {},
   "outputs": [],
   "source": []
  }
 ],
 "metadata": {
  "kernelspec": {
   "display_name": "Python 3",
   "language": "python",
   "name": "python3"
  },
  "language_info": {
   "codemirror_mode": {
    "name": "ipython",
    "version": 3
   },
   "file_extension": ".py",
   "mimetype": "text/x-python",
   "name": "python",
   "nbconvert_exporter": "python",
   "pygments_lexer": "ipython3",
   "version": "3.6.3"
  }
 },
 "nbformat": 4,
 "nbformat_minor": 2
}
