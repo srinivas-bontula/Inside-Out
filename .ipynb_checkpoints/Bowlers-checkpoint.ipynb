{
 "cells": [
  {
   "cell_type": "code",
   "execution_count": 123,
   "metadata": {},
   "outputs": [],
   "source": [
    "import pandas as pd\n",
    "import numpy as np\n",
    "import math\n",
    "import matplotlib.pyplot as plt\n",
    "%matplotlib inline"
   ]
  },
  {
   "cell_type": "code",
   "execution_count": 18,
   "metadata": {},
   "outputs": [],
   "source": [
    "df1 = pd.read_csv(\"records_final_series_test_final_bowlers_v6.csv\")"
   ]
  },
  {
   "cell_type": "code",
   "execution_count": 19,
   "metadata": {},
   "outputs": [
    {
     "data": {
      "text/html": [
       "<div>\n",
       "<style scoped>\n",
       "    .dataframe tbody tr th:only-of-type {\n",
       "        vertical-align: middle;\n",
       "    }\n",
       "\n",
       "    .dataframe tbody tr th {\n",
       "        vertical-align: top;\n",
       "    }\n",
       "\n",
       "    .dataframe thead th {\n",
       "        text-align: right;\n",
       "    }\n",
       "</style>\n",
       "<table border=\"1\" class=\"dataframe\">\n",
       "  <thead>\n",
       "    <tr style=\"text-align: right;\">\n",
       "      <th></th>\n",
       "      <th>Player</th>\n",
       "      <th>Country</th>\n",
       "      <th>Mat</th>\n",
       "      <th>Overs</th>\n",
       "      <th>Maidens</th>\n",
       "      <th>Runs</th>\n",
       "      <th>Wickets</th>\n",
       "      <th>Best</th>\n",
       "      <th>5w</th>\n",
       "      <th>10w</th>\n",
       "      <th>Avg</th>\n",
       "      <th>S/R</th>\n",
       "      <th>E/R</th>\n",
       "      <th>Series_Code</th>\n",
       "      <th>H/A</th>\n",
       "      <th>Decade_Index</th>\n",
       "    </tr>\n",
       "  </thead>\n",
       "  <tbody>\n",
       "    <tr>\n",
       "      <th>0</th>\n",
       "      <td>Garrett T W</td>\n",
       "      <td>Australia</td>\n",
       "      <td>2</td>\n",
       "      <td>26.1</td>\n",
       "      <td>12</td>\n",
       "      <td>48</td>\n",
       "      <td>2</td>\n",
       "      <td>2|22</td>\n",
       "      <td>0</td>\n",
       "      <td>0</td>\n",
       "      <td>24.00</td>\n",
       "      <td>52.50</td>\n",
       "      <td>2.74</td>\n",
       "      <td>1</td>\n",
       "      <td>Home</td>\n",
       "      <td>0</td>\n",
       "    </tr>\n",
       "    <tr>\n",
       "      <th>1</th>\n",
       "      <td>Gregory D W</td>\n",
       "      <td>Australia</td>\n",
       "      <td>2</td>\n",
       "      <td>5.0</td>\n",
       "      <td>1</td>\n",
       "      <td>9</td>\n",
       "      <td>0</td>\n",
       "      <td>0|0</td>\n",
       "      <td>0</td>\n",
       "      <td>0</td>\n",
       "      <td>NaN</td>\n",
       "      <td>NaN</td>\n",
       "      <td>2.70</td>\n",
       "      <td>1</td>\n",
       "      <td>Home</td>\n",
       "      <td>0</td>\n",
       "    </tr>\n",
       "    <tr>\n",
       "      <th>2</th>\n",
       "      <td>Hodges J H</td>\n",
       "      <td>Australia</td>\n",
       "      <td>2</td>\n",
       "      <td>34.0</td>\n",
       "      <td>9</td>\n",
       "      <td>84</td>\n",
       "      <td>6</td>\n",
       "      <td>2|7</td>\n",
       "      <td>0</td>\n",
       "      <td>0</td>\n",
       "      <td>14.00</td>\n",
       "      <td>22.67</td>\n",
       "      <td>3.71</td>\n",
       "      <td>1</td>\n",
       "      <td>Home</td>\n",
       "      <td>0</td>\n",
       "    </tr>\n",
       "    <tr>\n",
       "      <th>3</th>\n",
       "      <td>Kendall T</td>\n",
       "      <td>Australia</td>\n",
       "      <td>2</td>\n",
       "      <td>140.3</td>\n",
       "      <td>56</td>\n",
       "      <td>215</td>\n",
       "      <td>14</td>\n",
       "      <td>7|55</td>\n",
       "      <td>1</td>\n",
       "      <td>0</td>\n",
       "      <td>15.36</td>\n",
       "      <td>40.21</td>\n",
       "      <td>2.29</td>\n",
       "      <td>1</td>\n",
       "      <td>Home</td>\n",
       "      <td>0</td>\n",
       "    </tr>\n",
       "    <tr>\n",
       "      <th>4</th>\n",
       "      <td>Midwinter W E</td>\n",
       "      <td>Australia</td>\n",
       "      <td>2</td>\n",
       "      <td>107.1</td>\n",
       "      <td>44</td>\n",
       "      <td>156</td>\n",
       "      <td>8</td>\n",
       "      <td>5|78</td>\n",
       "      <td>1</td>\n",
       "      <td>0</td>\n",
       "      <td>19.50</td>\n",
       "      <td>53.63</td>\n",
       "      <td>2.18</td>\n",
       "      <td>1</td>\n",
       "      <td>Home</td>\n",
       "      <td>0</td>\n",
       "    </tr>\n",
       "  </tbody>\n",
       "</table>\n",
       "</div>"
      ],
      "text/plain": [
       "          Player    Country  Mat  Overs  Maidens  Runs  Wickets  Best  5w  \\\n",
       "0    Garrett T W  Australia    2   26.1       12    48        2  2|22   0   \n",
       "1    Gregory D W  Australia    2    5.0        1     9        0   0|0   0   \n",
       "2     Hodges J H  Australia    2   34.0        9    84        6   2|7   0   \n",
       "3      Kendall T  Australia    2  140.3       56   215       14  7|55   1   \n",
       "4  Midwinter W E  Australia    2  107.1       44   156        8  5|78   1   \n",
       "\n",
       "   10w    Avg    S/R   E/R  Series_Code   H/A  Decade_Index  \n",
       "0    0  24.00  52.50  2.74            1  Home             0  \n",
       "1    0    NaN    NaN  2.70            1  Home             0  \n",
       "2    0  14.00  22.67  3.71            1  Home             0  \n",
       "3    0  15.36  40.21  2.29            1  Home             0  \n",
       "4    0  19.50  53.63  2.18            1  Home             0  "
      ]
     },
     "execution_count": 19,
     "metadata": {},
     "output_type": "execute_result"
    }
   ],
   "source": [
    "df1.head()"
   ]
  },
  {
   "cell_type": "code",
   "execution_count": 22,
   "metadata": {},
   "outputs": [],
   "source": [
    "series = df1['Decade_Index'].values\n",
    "number, series_unique = np.unique(series, return_inverse = True)"
   ]
  },
  {
   "cell_type": "code",
   "execution_count": 29,
   "metadata": {},
   "outputs": [],
   "source": [
    "players = df1['Player'].values\n",
    "player_names, player_indices = np.unique(players, return_index = True)\n",
    "player_dict_temp_3 = {}\n",
    "for i in df1.index:\n",
    "    if df1[\"Player\"][i] in player_dict_temp_3.keys():\n",
    "        player_dict_temp_3[df1[\"Player\"][i]] = player_dict_temp_3[df1[\"Player\"][i]] + [i]\n",
    "    else:\n",
    "        player_dict_temp_3[df1[\"Player\"][i]] = [i]"
   ]
  },
  {
   "cell_type": "code",
   "execution_count": 36,
   "metadata": {},
   "outputs": [
    {
     "data": {
      "text/plain": [
       "array([  0,   0,   0, ..., 722, 722, 722], dtype=int64)"
      ]
     },
     "execution_count": 36,
     "metadata": {},
     "output_type": "execute_result"
    }
   ],
   "source": [
    "series_codes = df1['Series_Code'].values\n",
    "series_list, series_occurances, series_code = np.unique(series_codes, return_index=True, return_inverse = True)\n",
    "series_code"
   ]
  },
  {
   "cell_type": "code",
   "execution_count": 31,
   "metadata": {},
   "outputs": [],
   "source": [
    "series_to_number = {'Australia':0, 'Pakistan':1, 'New Zealand':2, 'West Indies':3, 'England':4, 'India' :5, 'Sri Lanka':6, 'Bangladesh':7, 'Zimbabwe':8, 'South Africa':9} \n",
    "opposition_country =[]\n",
    "series_country = []\n",
    "j = 0\n",
    "for i in series_occurances:\n",
    "    home = 0\n",
    "    away = 0\n",
    "    j = i\n",
    "    while 1 != 0:\n",
    "        #print(j)\n",
    "        if df1['H/A'][j] == 'Home' and home == 0:\n",
    "            #print(df['Country'][j])\n",
    "            series_country.append(series_to_number[df1['Country'][j]]) \n",
    "            home = home + 1\n",
    "        elif df1['H/A'][j] == 'Away' and away == 0:    \n",
    "            #print(df['Country'][j])\n",
    "            opposition_country.append(series_to_number[df1['Country'][j]]) \n",
    "            away = away + 1\n",
    "        elif home == 1 and away == 1:\n",
    "            #print(\"hello\")\n",
    "            break\n",
    "        j = j + 1 "
   ]
  },
  {
   "cell_type": "code",
   "execution_count": 140,
   "metadata": {},
   "outputs": [],
   "source": [
    "trps = np.zeros(723)\n",
    "twps = np.zeros(723)\n",
    "tops = np.zeros(723)\n",
    "tbps = np.zeros(723)\n",
    "balls = np.zeros(len(df1.index))\n",
    "for i in df1.index:\n",
    "    avg = df1[\"Avg\"][i]\n",
    "    if not np.isnan(avg):\n",
    "        trps[series_code[i]] += df1[\"Runs\"][i]\n",
    "        twps[series_code[i]] += df1[\"Wickets\"][i]\n",
    "        balls[i] = math.floor(df1[\"Overs\"][i])*6 + (df1[\"Overs\"][i]- math.floor(df1[\"Overs\"][i]))*10\n",
    "        tbps[series_code[i]] += balls[i]\n",
    "        \n",
    "    tops[series_code[i]] += df1[\"Overs\"][i]\n"
   ]
  },
  {
   "cell_type": "code",
   "execution_count": 144,
   "metadata": {},
   "outputs": [
    {
     "data": {
      "text/plain": [
       "18.0"
      ]
     },
     "execution_count": 144,
     "metadata": {},
     "output_type": "execute_result"
    }
   ],
   "source": [
    "balls[2848]"
   ]
  },
  {
   "cell_type": "code",
   "execution_count": 101,
   "metadata": {},
   "outputs": [
    {
     "name": "stderr",
     "output_type": "stream",
     "text": [
      "E:\\Anaconda\\lib\\site-packages\\ipykernel_launcher.py:5: RuntimeWarning: divide by zero encountered in double_scalars\n",
      "  \"\"\"\n"
     ]
    }
   ],
   "source": [
    "bowl=np.zeros(len(df1.index))\n",
    "for i in df1.index:\n",
    "    bowl[i] = (trps[series_code[i]] - df1[\"Runs\"][i])/(twps[series_code[i]]-df1[\"Wickets\"][i])\n",
    "    avg = df1[\"Avg\"][i]\n",
    "    bowl[i] = bowl[i]/avg\n",
    "    if np.isnan(avg) or avg == 0:\n",
    "        bowl[i] = 0"
   ]
  },
  {
   "cell_type": "code",
   "execution_count": 108,
   "metadata": {},
   "outputs": [
    {
     "data": {
      "text/plain": [
       "array([11827, 10144,  8858,  1544,  1831,  9356,  8803,  6664,  4700,\n",
       "        4368,  4174,  8156,  9636,  2848,  2260], dtype=int64)"
      ]
     },
     "execution_count": 108,
     "metadata": {},
     "output_type": "execute_result"
    }
   ],
   "source": [
    "args=np.argsort(bowl)[-15:]\n",
    "args"
   ]
  },
  {
   "cell_type": "code",
   "execution_count": 152,
   "metadata": {
    "scrolled": true
   },
   "outputs": [
    {
     "name": "stdout",
     "output_type": "stream",
     "text": [
      "0.9758616794514878\n"
     ]
    }
   ],
   "source": [
    "runs_metric_20 = []\n",
    "player_dict_temp_20 = {}\n",
    "\n",
    "\n",
    "for i in player_names:\n",
    "    no_of_wickets=0\n",
    "    no_balls = 0\n",
    "    spf_sum = 0\n",
    "    no_series = 0\n",
    "    for j in player_dict_temp_3[i]:\n",
    "        spf_sum += bowl[j]\n",
    "        no_series += 1\n",
    "        #no_of_wickets += df1[\"Wickets\"][j]\n",
    "        no_balls += balls[j]\n",
    "    if(no_balls > 3000):    \n",
    "        #runs_metric_20.append(runs/no_of_matches)\n",
    "        player_dict_temp_20[i] = spf_sum/no_series\n",
    "    \n",
    "s_20 = [(k,player_dict_temp_20[k]) for k in sorted(player_dict_temp_20, key=player_dict_temp_20.get, reverse = True)]\n",
    "s =0\n",
    "for k,v in s_20:\n",
    "    s += v\n",
    "    #print(k,\":\",v)\n",
    "a_2 = s/len(s_20)  "
   ]
  },
  {
   "cell_type": "code",
   "execution_count": 153,
   "metadata": {},
   "outputs": [
    {
     "name": "stderr",
     "output_type": "stream",
     "text": [
      "E:\\Anaconda\\lib\\site-packages\\ipykernel_launcher.py:5: RuntimeWarning: divide by zero encountered in double_scalars\n",
      "  \"\"\"\n"
     ]
    },
    {
     "data": {
      "text/plain": [
       "array([0.52028784, 0.53173645, 0.37644971, 0.62007683, 0.65832823,\n",
       "       0.36539399, 0.87259057, 0.19008887, 0.66558971, 0.62359731,\n",
       "       0.64550357, 1.1643397 , 0.58270531, 0.59529674])"
      ]
     },
     "execution_count": 153,
     "metadata": {},
     "output_type": "execute_result"
    }
   ],
   "source": [
    "bowl1=np.zeros(len(df1.index))\n",
    "for i in df1.index:\n",
    "    bowl1[i] = (trps[series_code[i]] - df1[\"Runs\"][i])/(tops[series_code[i]]-df1[\"Overs\"][i])\n",
    "    e_r = df1[\"E/R\"][i]\n",
    "    bowl1[i] = bowl1[i]/e_r\n",
    "    if e_r == 0:\n",
    "        bowl1[i] = 0\n",
    "bowl1[:14]"
   ]
  },
  {
   "cell_type": "code",
   "execution_count": 154,
   "metadata": {},
   "outputs": [
    {
     "name": "stdout",
     "output_type": "stream",
     "text": [
      "1.0016477139338258\n"
     ]
    }
   ],
   "source": [
    "runs_metric_30 = []\n",
    "player_dict_temp_30 = {}\n",
    "\n",
    "\n",
    "for i in player_names:\n",
    "    no_of_wickets1=0\n",
    "    spf_sum1 = 0\n",
    "    no_series1 = 0\n",
    "    no_balls = 0\n",
    "    for j in player_dict_temp_3[i]:\n",
    "        spf_sum1 += bowl1[j]\n",
    "        no_series1 += 1\n",
    "        #no_of_wickets1 += df1[\"Wickets\"][j]\n",
    "        no_balls += balls[j]\n",
    "    if(no_balls > 3000):    \n",
    "        #runs_metric_20.append(runs/no_of_matches)\n",
    "        player_dict_temp_30[i] = spf_sum1/no_series1\n",
    "    \n",
    "s_30 = [(k,player_dict_temp_30[k]) for k in sorted(player_dict_temp_30, key=player_dict_temp_30.get, reverse = True)]\n",
    "\n",
    "s =0\n",
    "for k,v in s_30:\n",
    "    s += v\n",
    "    #print(k,\":\",v)\n",
    "a_3 = s/len(s_30)"
   ]
  },
  {
   "cell_type": "code",
   "execution_count": 155,
   "metadata": {},
   "outputs": [],
   "source": [
    "bowl2=np.zeros(len(df1.index))\n",
    "for i in df1.index:\n",
    "    bowl2[i] = (tbps[series_code[i]] - balls[i])/(twps[series_code[i]]-df1[\"Wickets\"][i])\n",
    "    s_r = df1[\"S/R\"][i]\n",
    "    bowl2[i] = bowl2[i]/s_r\n",
    "    if np.isnan(s_r) or s_r == 0:\n",
    "        bowl2[i] = 0"
   ]
  },
  {
   "cell_type": "code",
   "execution_count": 156,
   "metadata": {},
   "outputs": [
    {
     "name": "stdout",
     "output_type": "stream",
     "text": [
      "0.9395835806966816\n"
     ]
    }
   ],
   "source": [
    "runs_metric_40 = []\n",
    "player_dict_temp_40 = {}\n",
    "\n",
    "\n",
    "for i in player_names:\n",
    "    no_of_wickets2=0\n",
    "    spf_sum2 = 0\n",
    "    no_series2 = 0\n",
    "    no_balls = 0\n",
    "    for j in player_dict_temp_3[i]:\n",
    "        spf_sum2 += bowl2[j]\n",
    "        no_series2 += 1\n",
    "        #no_of_wickets2 += df1[\"Wickets\"][j]\n",
    "        no_balls += balls[j]\n",
    "    if(no_balls > 3000):\n",
    "    #if(no_of_wickets2 > 100):    \n",
    "        #runs_metric_20.append(runs/no_of_matches)\n",
    "        player_dict_temp_40[i] = spf_sum2/no_series2\n",
    "    \n",
    "s_40 = [(k,player_dict_temp_40[k]) for k in sorted(player_dict_temp_40, key=player_dict_temp_40.get, reverse = True)]\n",
    "\n",
    "s_1 =0\n",
    "for k,v in s_40:\n",
    "    s += v\n",
    "    #print(k,\":\",v)\n",
    "a_4 = s/len(s_40) "
   ]
  },
  {
   "cell_type": "code",
   "execution_count": null,
   "metadata": {},
   "outputs": [],
   "source": [
    "w = np.sum()"
   ]
  },
  {
   "cell_type": "code",
   "execution_count": null,
   "metadata": {},
   "outputs": [],
   "source": [
    "player_dict_temp_50 = {}\n",
    "\n",
    "for i in player_names:\n",
    "    player_dict_temp_50[i] = \n",
    "    "
   ]
  },
  {
   "cell_type": "code",
   "execution_count": null,
   "metadata": {},
   "outputs": [],
   "source": []
  },
  {
   "cell_type": "code",
   "execution_count": null,
   "metadata": {},
   "outputs": [],
   "source": []
  }
 ],
 "metadata": {
  "kernelspec": {
   "display_name": "Python 3",
   "language": "python",
   "name": "python3"
  },
  "language_info": {
   "codemirror_mode": {
    "name": "ipython",
    "version": 3
   },
   "file_extension": ".py",
   "mimetype": "text/x-python",
   "name": "python",
   "nbconvert_exporter": "python",
   "pygments_lexer": "ipython3",
   "version": "3.6.4"
  }
 },
 "nbformat": 4,
 "nbformat_minor": 2
}
