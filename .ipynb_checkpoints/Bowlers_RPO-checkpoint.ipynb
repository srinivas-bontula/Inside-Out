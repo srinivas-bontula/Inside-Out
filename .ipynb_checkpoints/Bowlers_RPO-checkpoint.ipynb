{
 "cells": [
  {
   "cell_type": "code",
   "execution_count": 2,
   "metadata": {},
   "outputs": [],
   "source": [
    "import pandas as pd\n",
    "import numpy as np\n",
    "import matplotlib.pyplot as plt\n",
    "%matplotlib inline"
   ]
  },
  {
   "cell_type": "code",
   "execution_count": 4,
   "metadata": {},
   "outputs": [],
   "source": [
    "df1 = pd.read_csv(\"records_final_series_test_final_bowlers_v6.csv\")"
   ]
  },
  {
   "cell_type": "code",
   "execution_count": 5,
   "metadata": {},
   "outputs": [
    {
     "data": {
      "text/html": [
       "<div>\n",
       "<style>\n",
       "    .dataframe thead tr:only-child th {\n",
       "        text-align: right;\n",
       "    }\n",
       "\n",
       "    .dataframe thead th {\n",
       "        text-align: left;\n",
       "    }\n",
       "\n",
       "    .dataframe tbody tr th {\n",
       "        vertical-align: top;\n",
       "    }\n",
       "</style>\n",
       "<table border=\"1\" class=\"dataframe\">\n",
       "  <thead>\n",
       "    <tr style=\"text-align: right;\">\n",
       "      <th></th>\n",
       "      <th>Player</th>\n",
       "      <th>Country</th>\n",
       "      <th>Mat</th>\n",
       "      <th>Overs</th>\n",
       "      <th>Maidens</th>\n",
       "      <th>Runs</th>\n",
       "      <th>Wickets</th>\n",
       "      <th>Best</th>\n",
       "      <th>5w</th>\n",
       "      <th>10w</th>\n",
       "      <th>Avg</th>\n",
       "      <th>S/R</th>\n",
       "      <th>E/R</th>\n",
       "      <th>Series_Code</th>\n",
       "      <th>H/A</th>\n",
       "      <th>Decade_Index</th>\n",
       "    </tr>\n",
       "  </thead>\n",
       "  <tbody>\n",
       "    <tr>\n",
       "      <th>0</th>\n",
       "      <td>Garrett T W</td>\n",
       "      <td>Australia</td>\n",
       "      <td>2</td>\n",
       "      <td>26.1</td>\n",
       "      <td>12</td>\n",
       "      <td>48</td>\n",
       "      <td>2</td>\n",
       "      <td>2|22</td>\n",
       "      <td>0</td>\n",
       "      <td>0</td>\n",
       "      <td>24.00</td>\n",
       "      <td>52.50</td>\n",
       "      <td>2.74</td>\n",
       "      <td>1</td>\n",
       "      <td>Home</td>\n",
       "      <td>0</td>\n",
       "    </tr>\n",
       "    <tr>\n",
       "      <th>1</th>\n",
       "      <td>Gregory D W</td>\n",
       "      <td>Australia</td>\n",
       "      <td>2</td>\n",
       "      <td>5.0</td>\n",
       "      <td>1</td>\n",
       "      <td>9</td>\n",
       "      <td>0</td>\n",
       "      <td>0|0</td>\n",
       "      <td>0</td>\n",
       "      <td>0</td>\n",
       "      <td>NaN</td>\n",
       "      <td>NaN</td>\n",
       "      <td>2.70</td>\n",
       "      <td>1</td>\n",
       "      <td>Home</td>\n",
       "      <td>0</td>\n",
       "    </tr>\n",
       "    <tr>\n",
       "      <th>2</th>\n",
       "      <td>Hodges J H</td>\n",
       "      <td>Australia</td>\n",
       "      <td>2</td>\n",
       "      <td>34.0</td>\n",
       "      <td>9</td>\n",
       "      <td>84</td>\n",
       "      <td>6</td>\n",
       "      <td>2|7</td>\n",
       "      <td>0</td>\n",
       "      <td>0</td>\n",
       "      <td>14.00</td>\n",
       "      <td>22.67</td>\n",
       "      <td>3.71</td>\n",
       "      <td>1</td>\n",
       "      <td>Home</td>\n",
       "      <td>0</td>\n",
       "    </tr>\n",
       "    <tr>\n",
       "      <th>3</th>\n",
       "      <td>Kendall T</td>\n",
       "      <td>Australia</td>\n",
       "      <td>2</td>\n",
       "      <td>140.3</td>\n",
       "      <td>56</td>\n",
       "      <td>215</td>\n",
       "      <td>14</td>\n",
       "      <td>7|55</td>\n",
       "      <td>1</td>\n",
       "      <td>0</td>\n",
       "      <td>15.36</td>\n",
       "      <td>40.21</td>\n",
       "      <td>2.29</td>\n",
       "      <td>1</td>\n",
       "      <td>Home</td>\n",
       "      <td>0</td>\n",
       "    </tr>\n",
       "    <tr>\n",
       "      <th>4</th>\n",
       "      <td>Midwinter W E</td>\n",
       "      <td>Australia</td>\n",
       "      <td>2</td>\n",
       "      <td>107.1</td>\n",
       "      <td>44</td>\n",
       "      <td>156</td>\n",
       "      <td>8</td>\n",
       "      <td>5|78</td>\n",
       "      <td>1</td>\n",
       "      <td>0</td>\n",
       "      <td>19.50</td>\n",
       "      <td>53.63</td>\n",
       "      <td>2.18</td>\n",
       "      <td>1</td>\n",
       "      <td>Home</td>\n",
       "      <td>0</td>\n",
       "    </tr>\n",
       "  </tbody>\n",
       "</table>\n",
       "</div>"
      ],
      "text/plain": [
       "          Player    Country  Mat  Overs  Maidens  Runs  Wickets  Best  5w  \\\n",
       "0    Garrett T W  Australia    2   26.1       12    48        2  2|22   0   \n",
       "1    Gregory D W  Australia    2    5.0        1     9        0   0|0   0   \n",
       "2     Hodges J H  Australia    2   34.0        9    84        6   2|7   0   \n",
       "3      Kendall T  Australia    2  140.3       56   215       14  7|55   1   \n",
       "4  Midwinter W E  Australia    2  107.1       44   156        8  5|78   1   \n",
       "\n",
       "   10w    Avg    S/R   E/R  Series_Code   H/A  Decade_Index  \n",
       "0    0  24.00  52.50  2.74            1  Home             0  \n",
       "1    0    NaN    NaN  2.70            1  Home             0  \n",
       "2    0  14.00  22.67  3.71            1  Home             0  \n",
       "3    0  15.36  40.21  2.29            1  Home             0  \n",
       "4    0  19.50  53.63  2.18            1  Home             0  "
      ]
     },
     "execution_count": 5,
     "metadata": {},
     "output_type": "execute_result"
    }
   ],
   "source": [
    "df1.head()"
   ]
  },
  {
   "cell_type": "code",
   "execution_count": 6,
   "metadata": {},
   "outputs": [],
   "source": [
    "series = df1['Decade_Index'].values\n",
    "number, series_unique = np.unique(series, return_inverse = True)"
   ]
  },
  {
   "cell_type": "code",
   "execution_count": 7,
   "metadata": {},
   "outputs": [
    {
     "data": {
      "text/plain": [
       "array([ 0,  0,  0, ..., 13, 13, 13], dtype=int64)"
      ]
     },
     "execution_count": 7,
     "metadata": {},
     "output_type": "execute_result"
    }
   ],
   "source": [
    "series"
   ]
  },
  {
   "cell_type": "code",
   "execution_count": 8,
   "metadata": {},
   "outputs": [
    {
     "data": {
      "text/plain": [
       "array([ 0,  1,  2,  3,  4,  5,  6,  7,  8,  9, 10, 11, 12, 13], dtype=int64)"
      ]
     },
     "execution_count": 8,
     "metadata": {},
     "output_type": "execute_result"
    }
   ],
   "source": [
    "number"
   ]
  },
  {
   "cell_type": "code",
   "execution_count": 9,
   "metadata": {},
   "outputs": [
    {
     "data": {
      "text/plain": [
       "array([ 0,  0,  0, ..., 13, 13, 13], dtype=int64)"
      ]
     },
     "execution_count": 9,
     "metadata": {},
     "output_type": "execute_result"
    }
   ],
   "source": [
    "series_unique"
   ]
  },
  {
   "cell_type": "code",
   "execution_count": 10,
   "metadata": {},
   "outputs": [],
   "source": [
    "players = df1['Player'].values\n",
    "player_names, player_indices = np.unique(players, return_index = True)\n",
    "player_dict_temp_3 = {}\n",
    "for i in df1.index:\n",
    "    if df1[\"Player\"][i] in player_dict_temp_3.keys():\n",
    "        player_dict_temp_3[df1[\"Player\"][i]] = player_dict_temp_3[df1[\"Player\"][i]] + [i]\n",
    "    else:\n",
    "        player_dict_temp_3[df1[\"Player\"][i]] = [i]"
   ]
  },
  {
   "cell_type": "code",
   "execution_count": 14,
   "metadata": {},
   "outputs": [],
   "source": [
    "series_codes = df1['Series_Code'].values\n",
    "series_list, series_occurances = np.unique(series_codes, return_index=True)"
   ]
  },
  {
   "cell_type": "code",
   "execution_count": 15,
   "metadata": {},
   "outputs": [],
   "source": [
    "series_to_number = {'Australia':0, 'Pakistan':1, 'New Zealand':2, 'West Indies':3, 'England':4, 'India' :5, 'Sri Lanka':6, 'Bangladesh':7, 'Zimbabwe':8, 'South Africa':9} \n",
    "opposition_country =[]\n",
    "series_country = []\n",
    "j = 0\n",
    "for i in series_occurances:\n",
    "    home = 0\n",
    "    away = 0\n",
    "    j = i\n",
    "    while 1 != 0:\n",
    "        #print(j)\n",
    "        if df1[' H/A'][j] == 'Home' and home == 0:\n",
    "            #print(df['Country'][j])\n",
    "            series_country.append(series_to_number[df1['Country'][j]]) \n",
    "            home = home + 1\n",
    "        elif df1[' H/A'][j] == 'Away' and away == 0:    \n",
    "            #print(df['Country'][j])\n",
    "            opposition_country.append(series_to_number[df1['Country'][j]]) \n",
    "            away = away + 1\n",
    "        elif home == 1 and away == 1:\n",
    "            #print(\"hello\")\n",
    "            break\n",
    "        j = j + 1 "
   ]
  },
  {
   "cell_type": "code",
   "execution_count": 17,
   "metadata": {},
   "outputs": [
    {
     "name": "stdout",
     "output_type": "stream",
     "text": [
      "723\n"
     ]
    }
   ],
   "source": []
  },
  {
   "cell_type": "code",
   "execution_count": null,
   "metadata": {},
   "outputs": [],
   "source": []
  }
 ],
 "metadata": {
  "kernelspec": {
   "display_name": "Python 3",
   "language": "python",
   "name": "python3"
  },
  "language_info": {
   "codemirror_mode": {
    "name": "ipython",
    "version": 3
   },
   "file_extension": ".py",
   "mimetype": "text/x-python",
   "name": "python",
   "nbconvert_exporter": "python",
   "pygments_lexer": "ipython3",
   "version": "3.6.3"
  }
 },
 "nbformat": 4,
 "nbformat_minor": 2
}
