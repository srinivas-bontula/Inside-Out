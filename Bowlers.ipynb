{
 "cells": [
  {
   "cell_type": "code",
   "execution_count": 1,
   "metadata": {},
   "outputs": [],
   "source": [
    "import pandas as pd\n",
    "import numpy as np\n",
    "import matplotlib.pyplot as plt\n",
    "%matplotlib inline"
   ]
  },
  {
   "cell_type": "code",
   "execution_count": 5,
   "metadata": {},
   "outputs": [],
   "source": [
    "df1 = pd.read_csv(\"records_final_series_test_final_bowlers_v3.csv\")"
   ]
  },
  {
   "cell_type": "code",
   "execution_count": 6,
   "metadata": {},
   "outputs": [
    {
     "data": {
      "text/html": [
       "<div>\n",
       "<style scoped>\n",
       "    .dataframe tbody tr th:only-of-type {\n",
       "        vertical-align: middle;\n",
       "    }\n",
       "\n",
       "    .dataframe tbody tr th {\n",
       "        vertical-align: top;\n",
       "    }\n",
       "\n",
       "    .dataframe thead th {\n",
       "        text-align: right;\n",
       "    }\n",
       "</style>\n",
       "<table border=\"1\" class=\"dataframe\">\n",
       "  <thead>\n",
       "    <tr style=\"text-align: right;\">\n",
       "      <th></th>\n",
       "      <th>Player</th>\n",
       "      <th>Country</th>\n",
       "      <th>Mat</th>\n",
       "      <th>Overs</th>\n",
       "      <th>Maidens</th>\n",
       "      <th>Runs</th>\n",
       "      <th>Wickets</th>\n",
       "      <th>Best</th>\n",
       "      <th>5w</th>\n",
       "      <th>10w</th>\n",
       "      <th>Avg</th>\n",
       "      <th>S/R</th>\n",
       "      <th>E/R</th>\n",
       "      <th>Series_Code</th>\n",
       "      <th>H/A</th>\n",
       "      <th>Decade_Index</th>\n",
       "    </tr>\n",
       "  </thead>\n",
       "  <tbody>\n",
       "    <tr>\n",
       "      <th>0</th>\n",
       "      <td>McGrath G D</td>\n",
       "      <td>Australia</td>\n",
       "      <td>1</td>\n",
       "      <td>54.0</td>\n",
       "      <td>19</td>\n",
       "      <td>90</td>\n",
       "      <td>6</td>\n",
       "      <td>Mar-44</td>\n",
       "      <td>0</td>\n",
       "      <td>0</td>\n",
       "      <td>15.00</td>\n",
       "      <td>54.00</td>\n",
       "      <td>1.67</td>\n",
       "      <td>418</td>\n",
       "      <td>Away</td>\n",
       "      <td>9</td>\n",
       "    </tr>\n",
       "    <tr>\n",
       "      <th>1</th>\n",
       "      <td>Streak H H</td>\n",
       "      <td>Zimbabwe</td>\n",
       "      <td>1</td>\n",
       "      <td>34.0</td>\n",
       "      <td>8</td>\n",
       "      <td>93</td>\n",
       "      <td>5</td>\n",
       "      <td>May-93</td>\n",
       "      <td>1</td>\n",
       "      <td>0</td>\n",
       "      <td>18.60</td>\n",
       "      <td>40.80</td>\n",
       "      <td>2.74</td>\n",
       "      <td>418</td>\n",
       "      <td>Home</td>\n",
       "      <td>9</td>\n",
       "    </tr>\n",
       "    <tr>\n",
       "      <th>2</th>\n",
       "      <td>Warne S K</td>\n",
       "      <td>Australia</td>\n",
       "      <td>1</td>\n",
       "      <td>53.1</td>\n",
       "      <td>13</td>\n",
       "      <td>137</td>\n",
       "      <td>6</td>\n",
       "      <td>Mar-68</td>\n",
       "      <td>0</td>\n",
       "      <td>0</td>\n",
       "      <td>22.83</td>\n",
       "      <td>53.17</td>\n",
       "      <td>2.58</td>\n",
       "      <td>418</td>\n",
       "      <td>Away</td>\n",
       "      <td>9</td>\n",
       "    </tr>\n",
       "    <tr>\n",
       "      <th>3</th>\n",
       "      <td>Fleming D W</td>\n",
       "      <td>Australia</td>\n",
       "      <td>1</td>\n",
       "      <td>36.0</td>\n",
       "      <td>12</td>\n",
       "      <td>53</td>\n",
       "      <td>2</td>\n",
       "      <td>22-Feb</td>\n",
       "      <td>0</td>\n",
       "      <td>0</td>\n",
       "      <td>26.50</td>\n",
       "      <td>108.00</td>\n",
       "      <td>1.47</td>\n",
       "      <td>418</td>\n",
       "      <td>Away</td>\n",
       "      <td>9</td>\n",
       "    </tr>\n",
       "    <tr>\n",
       "      <th>4</th>\n",
       "      <td>Miller C R</td>\n",
       "      <td>Australia</td>\n",
       "      <td>1</td>\n",
       "      <td>53.0</td>\n",
       "      <td>16</td>\n",
       "      <td>102</td>\n",
       "      <td>3</td>\n",
       "      <td>Mar-66</td>\n",
       "      <td>0</td>\n",
       "      <td>0</td>\n",
       "      <td>34.00</td>\n",
       "      <td>106.00</td>\n",
       "      <td>1.92</td>\n",
       "      <td>418</td>\n",
       "      <td>Away</td>\n",
       "      <td>9</td>\n",
       "    </tr>\n",
       "  </tbody>\n",
       "</table>\n",
       "</div>"
      ],
      "text/plain": [
       "        Player    Country  Mat  Overs  Maidens  Runs  Wickets    Best  5w  \\\n",
       "0  McGrath G D  Australia    1   54.0       19    90        6  Mar-44   0   \n",
       "1   Streak H H   Zimbabwe    1   34.0        8    93        5  May-93   1   \n",
       "2    Warne S K  Australia    1   53.1       13   137        6  Mar-68   0   \n",
       "3  Fleming D W  Australia    1   36.0       12    53        2  22-Feb   0   \n",
       "4   Miller C R  Australia    1   53.0       16   102        3  Mar-66   0   \n",
       "\n",
       "   10w    Avg     S/R   E/R  Series_Code   H/A   Decade_Index   \n",
       "0    0  15.00   54.00  1.67          418  Away               9  \n",
       "1    0  18.60   40.80  2.74          418  Home               9  \n",
       "2    0  22.83   53.17  2.58          418  Away               9  \n",
       "3    0  26.50  108.00  1.47          418  Away               9  \n",
       "4    0  34.00  106.00  1.92          418  Away               9  "
      ]
     },
     "execution_count": 6,
     "metadata": {},
     "output_type": "execute_result"
    }
   ],
   "source": [
    "df1.head()"
   ]
  },
  {
   "cell_type": "code",
   "execution_count": 9,
   "metadata": {},
   "outputs": [],
   "source": [
    "series = df1[' Decade_Index '].values\n",
    "number, series_unique = np.unique(series, return_inverse = True)"
   ]
  },
  {
   "cell_type": "code",
   "execution_count": 10,
   "metadata": {},
   "outputs": [],
   "source": [
    "players = df1['Player'].values\n",
    "player_names, player_indices = np.unique(players, return_index = True)\n",
    "player_dict_temp_3 = {}\n",
    "for i in df1.index:\n",
    "    if df1[\"Player\"][i] in player_dict_temp_3.keys():\n",
    "        player_dict_temp_3[df1[\"Player\"][i]] = player_dict_temp_3[df1[\"Player\"][i]] + [i]\n",
    "    else:\n",
    "        player_dict_temp_3[df1[\"Player\"][i]] = [i]"
   ]
  },
  {
   "cell_type": "code",
   "execution_count": 14,
   "metadata": {},
   "outputs": [],
   "source": [
    "series_codes = df1['Series_Code'].values\n",
    "series_list, series_occurances = np.unique(series_codes, return_index=True)"
   ]
  },
  {
   "cell_type": "code",
   "execution_count": 15,
   "metadata": {},
   "outputs": [],
   "source": [
    "series_to_number = {'Australia':0, 'Pakistan':1, 'New Zealand':2, 'West Indies':3, 'England':4, 'India' :5, 'Sri Lanka':6, 'Bangladesh':7, 'Zimbabwe':8, 'South Africa':9} \n",
    "opposition_country =[]\n",
    "series_country = []\n",
    "j = 0\n",
    "for i in series_occurances:\n",
    "    home = 0\n",
    "    away = 0\n",
    "    j = i\n",
    "    while 1 != 0:\n",
    "        #print(j)\n",
    "        if df1[' H/A'][j] == 'Home' and home == 0:\n",
    "            #print(df['Country'][j])\n",
    "            series_country.append(series_to_number[df1['Country'][j]]) \n",
    "            home = home + 1\n",
    "        elif df1[' H/A'][j] == 'Away' and away == 0:    \n",
    "            #print(df['Country'][j])\n",
    "            opposition_country.append(series_to_number[df1['Country'][j]]) \n",
    "            away = away + 1\n",
    "        elif home == 1 and away == 1:\n",
    "            #print(\"hello\")\n",
    "            break\n",
    "        j = j + 1 "
   ]
  },
  {
   "cell_type": "code",
   "execution_count": 17,
   "metadata": {},
   "outputs": [
    {
     "name": "stdout",
     "output_type": "stream",
     "text": [
      "723\n"
     ]
    }
   ],
   "source": []
  },
  {
   "cell_type": "code",
   "execution_count": null,
   "metadata": {},
   "outputs": [],
   "source": []
  }
 ],
 "metadata": {
  "kernelspec": {
   "display_name": "Python 3",
   "language": "python",
   "name": "python3"
  },
  "language_info": {
   "codemirror_mode": {
    "name": "ipython",
    "version": 3
   },
   "file_extension": ".py",
   "mimetype": "text/x-python",
   "name": "python",
   "nbconvert_exporter": "python",
   "pygments_lexer": "ipython3",
   "version": "3.6.4"
  }
 },
 "nbformat": 4,
 "nbformat_minor": 2
}
